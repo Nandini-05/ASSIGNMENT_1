{
 "cells": [
  {
   "cell_type": "code",
   "execution_count": 2,
   "metadata": {},
   "outputs": [
    {
     "name": "stdout",
     "output_type": "stream",
     "text": [
      "14\n",
      "1\n",
      "2\n"
     ]
    }
   ],
   "source": [
    "#Given a number and ith bit, change the ith bit of that number to 1.\n",
    "num = int(input(''))\n",
    "i = int(input(''))\n",
    "magic_num = i<<1\n",
    "print(magic_num or num)\n",
    "\n"
   ]
  },
  {
   "cell_type": "code",
   "execution_count": 1,
   "metadata": {},
   "outputs": [
    {
     "name": "stdout",
     "output_type": "stream",
     "text": [
      "lst A[2,4,6,2,0,6]\n",
      "lst B[1,4,6,3,8]\n",
      "[0, 1, 2, 2, 3, 4, 4, 6, 6, 6, 8]\n"
     ]
    }
   ],
   "source": [
    "#Given two lists of integers A and B (Take user inputs). Write a program to merge them into a single sorted list that contains every item from list A and B in ascending order.\n",
    "lst_A = eval(input('lst A'))\n",
    "lst_B = eval(input('lst B'))\n",
    "lst_c = lst_A + lst_B\n",
    "lst_c.sort()\n",
    "print(lst_c)"
   ]
  },
  {
   "cell_type": "code",
   "execution_count": 2,
   "metadata": {},
   "outputs": [
    {
     "name": "stdout",
     "output_type": "stream",
     "text": [
      "lst[2,5,3,6,2,5,7]\n",
      "[2, 3, 5, 6, 7]\n"
     ]
    }
   ],
   "source": [
    "# Write a program to get a user input in the form of a list data type. Return a list by removing all the duplicates.\n",
    "lst = eval(input('lst'))\n",
    "lst = list(set(lst))\n",
    "print (lst)"
   ]
  },
  {
   "cell_type": "code",
   "execution_count": 1,
   "metadata": {},
   "outputs": [
    {
     "name": "stdout",
     "output_type": "stream",
     "text": [
      "enter the number 124634\n",
      "0\n"
     ]
    }
   ],
   "source": [
    "#Given a number, print 1 if the number is odd otherwise print 0.\n",
    "X = int(input(\"enter the number \"))\n",
    "print(X%2)"
   ]
  },
  {
   "cell_type": "code",
   "execution_count": 17,
   "metadata": {},
   "outputs": [
    {
     "name": "stdout",
     "output_type": "stream",
     "text": [
      "enter3,5,2,5,7,4,0\n",
      "(3, 5, 2, 5, 7, 4, 0)\n",
      "7\n",
      "0\n",
      "7\n"
     ]
    }
   ],
   "source": [
    "# Write a program to create a user defined tuple with ‘int’ data type and perform the following operations:\n",
    "   # Find the length of tuples\n",
    "    #Find the sum of all the elements of a tuple\n",
    "    #Find the largest and smallest elements of a tuple\n",
    "\n",
    "tup = eval(input('enter'))\n",
    "print(tup)\n",
    "print (len(tup))\n",
    "print (min(tup))\n",
    "print (max(tup))\n"
   ]
  },
  {
   "cell_type": "code",
   "execution_count": null,
   "metadata": {},
   "outputs": [],
   "source": []
  }
 ],
 "metadata": {
  "kernelspec": {
   "display_name": "Python 3",
   "language": "python",
   "name": "python3"
  }
 },
 "nbformat": 4,
 "nbformat_minor": 4
}
